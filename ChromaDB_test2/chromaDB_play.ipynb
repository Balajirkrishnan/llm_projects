{
  "nbformat": 4,
  "nbformat_minor": 0,
  "metadata": {
    "colab": {
      "provenance": [],
      "toc_visible": true
    },
    "kernelspec": {
      "name": "python3",
      "display_name": "Python 3"
    },
    "language_info": {
      "name": "python"
    }
  },
  "cells": [
    {
      "cell_type": "code",
      "execution_count": null,
      "metadata": {
        "id": "NBGPIXfmjwYm"
      },
      "outputs": [],
      "source": [
        "!pip install chromadb"
      ]
    },
    {
      "cell_type": "code",
      "source": [
        "import chromadb\n",
        "chroma_client = chromadb.Client()"
      ],
      "metadata": {
        "id": "s48dYVQaxjeo"
      },
      "execution_count": null,
      "outputs": []
    },
    {
      "cell_type": "code",
      "source": [
        "collection = chroma_client.create_collection(name=\"my_collection_test_0001\")"
      ],
      "metadata": {
        "id": "-O_zn3wjxqFd"
      },
      "execution_count": null,
      "outputs": []
    },
    {
      "cell_type": "code",
      "source": [
        "collection.add(\n",
        "    documents=[\"The total number of nodes is 50\",\" The node alerthdfs01.c88.dev.raleigh.google.com runs on OS version CentOS Linux release 7.4.1708 (Core). Node exporter status is installed: False, status: N/A. Google service status is unknown_app, consul service status is running, and NTP status is in-sync. It's a VMware Virtual Platform with uptime of 20 minutes and log size of 0B. Application version includes u and n and k and n and o and w and n. Splunk status is installed: True, status: active, version: splunk-agent-1.0.1-15.el7.x86_64. Waiting time is 0. Certificate package includes ops: ops-ca-bundle-1.0-8.noarch and qtfa: qtfa-1.0-44.noarch. Bootstrap information version is UNKNOWN from date UNKNOWN. SSSD information status is {'status': 'active', 'uptime': 'Wed 2024-03-13 17:30:02 UTC; 1 weeks 1 days ago'}. \",\"The node camspm01.c88.dev.raleigh.google.com runs on OS version CentOS Linux release 7.6.1810 (Core). Node exporter status is installed: True, status: active. Google service status is Running, consul service status is not_installed, and NTP status is in-sync. It's a VMware Virtual Platform with uptime of 1045 minutes and log size of 0B. Application version includes camspm_service-0.2.0-118.noarch. Splunk status is installed: True, status: active, version: splunk-agent-1.0.1-15.el7.x86_64. Waiting time is 0. Certificate package includes ops: package not found and qtfa: qtfa-1.0-44.noarch. Bootstrap information version is UNKNOWN from date UNKNOWN. SSSD information status is {'status': 'active', 'uptime': 'Wed 2024-03-13 17:30:02 UTC; 1 weeks 1 days ago'}. \"],\n",
        "    metadatas=[{\"source\": \"my_source\"}, {\"source\": \"my_source\"},{\"source\": \"my_source\"}],\n",
        "    ids=[\"id1\", \"id2\",\"id3\"]\n",
        ")"
      ],
      "metadata": {
        "colab": {
          "base_uri": "https://localhost:8080/"
        },
        "id": "nDiZlRYVxvNm",
        "outputId": "c0b39259-8c24-4cb5-e0a4-4e0aaaeae3ed"
      },
      "execution_count": null,
      "outputs": [
        {
          "output_type": "stream",
          "name": "stderr",
          "text": [
            "/root/.cache/chroma/onnx_models/all-MiniLM-L6-v2/onnx.tar.gz: 100%|██████████| 79.3M/79.3M [00:02<00:00, 30.7MiB/s]\n"
          ]
        }
      ]
    },
    {
      "cell_type": "code",
      "source": [
        "collection.peek()"
      ],
      "metadata": {
        "id": "taRGo_gMx_iP"
      },
      "execution_count": null,
      "outputs": []
    },
    {
      "cell_type": "code",
      "source": [
        "question='What is the OS version of node alerthdfs01.c88.dev.raleigh.google.com ?'"
      ],
      "metadata": {
        "id": "05Ez3NoIyL2G"
      },
      "execution_count": null,
      "outputs": []
    },
    {
      "cell_type": "code",
      "source": [
        "results = collection.query(\n",
        "    query_texts=[question],\n",
        "    n_results=1\n",
        ")"
      ],
      "metadata": {
        "id": "VtVsbXV1yOoN"
      },
      "execution_count": null,
      "outputs": []
    },
    {
      "cell_type": "code",
      "source": [
        "print(results['documents'])"
      ],
      "metadata": {
        "colab": {
          "base_uri": "https://localhost:8080/"
        },
        "id": "cwC5ceTiyUqN",
        "outputId": "28113bcc-9695-4501-b527-d027a817d1b1"
      },
      "execution_count": null,
      "outputs": [
        {
          "output_type": "stream",
          "name": "stdout",
          "text": [
            "[[\" The node alerthdfs01.c88.dev.raleigh.google.com runs on OS version CentOS Linux release 7.4.1708 (Core). Node exporter status is installed: False, status: N/A. Google service status is unknown_app, consul service status is running, and NTP status is in-sync. It's a VMware Virtual Platform with uptime of 20 minutes and log size of 0B. Application version includes u and n and k and n and o and w and n. Splunk status is installed: True, status: active, version: splunk-agent-1.0.1-15.el7.x86_64. Waiting time is 0. Certificate package includes ops: ops-ca-bundle-1.0-8.noarch and qtfa: qtfa-1.0-44.noarch. Bootstrap information version is UNKNOWN from date UNKNOWN. SSSD information status is {'status': 'active', 'uptime': 'Wed 2024-03-13 17:30:02 UTC; 1 weeks 1 days ago'}. \"]]\n"
          ]
        }
      ]
    },
    {
      "cell_type": "code",
      "source": [
        "from transformers import AutoModelForQuestionAnswering, AutoTokenizer, pipeline\n",
        "\n",
        "model_name = \"deepset/roberta-base-squad2\"\n",
        "\n",
        "# a) Get predictions\n",
        "nlp = pipeline('question-answering', model=model_name, tokenizer=model_name)\n",
        "QA_input = {\n",
        "    'question': question,\n",
        "    'context': str(results['documents'])\n",
        "}\n",
        "res = nlp(QA_input)"
      ],
      "metadata": {
        "id": "czCRy_WPyzV5"
      },
      "execution_count": null,
      "outputs": []
    },
    {
      "cell_type": "code",
      "source": [
        "print(res['answer'])"
      ],
      "metadata": {
        "colab": {
          "base_uri": "https://localhost:8080/"
        },
        "id": "5qT0cD7IzL4q",
        "outputId": "93454455-c443-4807-ea97-6042a461727b"
      },
      "execution_count": null,
      "outputs": [
        {
          "output_type": "stream",
          "name": "stdout",
          "text": [
            "CentOS Linux release 7.4.1708\n"
          ]
        }
      ]
    }
  ]
}